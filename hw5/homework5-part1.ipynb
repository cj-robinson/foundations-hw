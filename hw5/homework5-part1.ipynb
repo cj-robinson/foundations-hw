{
 "cells": [
  {
   "cell_type": "markdown",
   "id": "7951c481-ad6c-4225-b3d3-cc070af3f897",
   "metadata": {},
   "source": [
    "# HW 5 Part 1"
   ]
  },
  {
   "cell_type": "markdown",
   "id": "88b23e00-7544-43d3-8123-9910c5591521",
   "metadata": {},
   "source": [
    "### Examine both Open Meteo and Tomorrow and decide which one you'd prefer to use. What drove your decision?\n",
    "I ended up using Tomorrow. The documentation seemed like it was a lot more thorough, and I didn't love the way the API looked for Open Metro (selecting specific vars, using lat long). "
   ]
  },
  {
   "cell_type": "markdown",
   "id": "4c2648d3-712a-4245-a9bf-9aa6748db6f5",
   "metadata": {},
   "source": [
    "### What is the URL to the documentation? (You don't use code for this one)\n",
    "https://docs.tomorrow.io/reference/intro/getting-started"
   ]
  },
  {
   "cell_type": "markdown",
   "id": "9643e694-fa22-48d7-a558-e4b4e1d3c826",
   "metadata": {},
   "source": [
    "### Make a request for the current weather where you are born, or somewhere you've lived."
   ]
  },
  {
   "cell_type": "code",
   "execution_count": 46,
   "id": "4974a054-65a4-45fa-9815-cbde752d8c17",
   "metadata": {},
   "outputs": [],
   "source": [
    "import requests\n",
    "from dotenv import load_dotenv\n",
    "import os\n",
    "\n",
    "load_dotenv()\n",
    "\n",
    "API_KEY = os.getenv(\"API_KEY\")"
   ]
  },
  {
   "cell_type": "code",
   "execution_count": 47,
   "id": "9f566cdc-4e28-4da0-aa36-ca05facf4221",
   "metadata": {},
   "outputs": [],
   "source": [
    "url = f\"https://api.tomorrow.io/v4/weather/realtime?location=puyallup&units=imperial&apikey={API_KEY}\"\n",
    "response = requests.get(url)\n",
    "hometown_data = response.json()"
   ]
  },
  {
   "cell_type": "markdown",
   "id": "54843a05-b999-4603-b35c-78be74c9049a",
   "metadata": {},
   "source": [
    "### Print out the country this location is in."
   ]
  },
  {
   "cell_type": "code",
   "execution_count": 48,
   "id": "21e20b12-f681-4220-a476-42dec7a9743a",
   "metadata": {},
   "outputs": [
    {
     "data": {
      "text/plain": [
       "'Puyallup, Pierce County, Washington, United States'"
      ]
     },
     "execution_count": 48,
     "metadata": {},
     "output_type": "execute_result"
    }
   ],
   "source": [
    "hometown_data['location']['name']"
   ]
  },
  {
   "cell_type": "markdown",
   "id": "2e360326-51e0-4410-b386-df9f53ab8d72",
   "metadata": {},
   "source": [
    "### Print out the difference between the current temperature and how warm it feels. Use \"It feels ___ degrees colder\" or \"It feels ___ degrees warmer,\" not negative numbers."
   ]
  },
  {
   "cell_type": "code",
   "execution_count": 49,
   "id": "722b4df5-555a-406d-9cd8-2ca78dcaeedd",
   "metadata": {},
   "outputs": [],
   "source": [
    "current_temp = hometown_data['data']['values']['temperature'] \n",
    "feels_temp = hometown_data['data']['values']['temperatureApparent'] \n",
    "temp_diff = abs(current_temp - feels_temp)"
   ]
  },
  {
   "cell_type": "code",
   "execution_count": 50,
   "id": "ea21ace2-3132-4553-b624-1149fc655b82",
   "metadata": {},
   "outputs": [
    {
     "name": "stdout",
     "output_type": "stream",
     "text": [
      "It feels the same as it is.\n"
     ]
    }
   ],
   "source": [
    "if feels_temp > current_temp :\n",
    "    print(f\"It feels {temp_diff} degrees warmer\")\n",
    "elif feels_temp > current_temp:\n",
    "    print(f\"It feels {temp_diff} degrees colder\")\n",
    "else:\n",
    "    print(\"It feels the same as it is.\")\n"
   ]
  },
  {
   "cell_type": "markdown",
   "id": "198dbe4c-8206-4146-8249-29603aabac50",
   "metadata": {},
   "source": [
    "### What's the current temperature at Heathrow International Airport? Use the airport's IATA code to search."
   ]
  },
  {
   "cell_type": "code",
   "execution_count": 39,
   "id": "ed50d2de-1be4-45ed-b467-d9ec3b55e45a",
   "metadata": {},
   "outputs": [],
   "source": [
    "url = f\"https://api.tomorrow.io/v4/weather/realtime?location=lhr&units=imperial&apikey={API_KEY}\"\n",
    "response = requests.get(url)\n",
    "heathrow_data = response.json()"
   ]
  },
  {
   "cell_type": "code",
   "execution_count": 40,
   "id": "c90d58a0-95cc-49c9-a76b-274599a2c7da",
   "metadata": {},
   "outputs": [
    {
     "data": {
      "text/plain": [
       "68.68"
      ]
     },
     "execution_count": 40,
     "metadata": {},
     "output_type": "execute_result"
    }
   ],
   "source": [
    "heathrow_data['data']['values']['temperature'] "
   ]
  },
  {
   "cell_type": "markdown",
   "id": "22ab9fc7-d648-4b3a-b10c-37e5b81b773f",
   "metadata": {},
   "source": [
    "### What URL would I use to request a 3-day forecast at Heathrow?\n"
   ]
  },
  {
   "cell_type": "code",
   "execution_count": 96,
   "id": "0eb53e19-fcff-4bf8-a2ef-8a33d339bba7",
   "metadata": {},
   "outputs": [
    {
     "name": "stdout",
     "output_type": "stream",
     "text": [
      "https://api.tomorrow.io/v4/weather/forecast?location=lhr&timesteps=1d&apikey=CcrjK1SOfHzgAjr9mv7JdF2thYJepeVu\n"
     ]
    }
   ],
   "source": [
    "url = f\"https://api.tomorrow.io/v4/weather/forecast?location=lhr&timesteps=1d&apikey={API_KEY}\"\n",
    "response = requests.get(url)\n",
    "heathrow_forecast_data = response.json()\n",
    "print(url)"
   ]
  },
  {
   "cell_type": "markdown",
   "id": "4c3c6e15-d121-48ce-a92d-7d6c208b0b7f",
   "metadata": {},
   "source": [
    "### Print the date of each of the 3 days you're getting a forecast for.\n"
   ]
  },
  {
   "cell_type": "code",
   "execution_count": 97,
   "id": "422e2886-d5fa-4a04-8862-8412215016b3",
   "metadata": {},
   "outputs": [
    {
     "name": "stdout",
     "output_type": "stream",
     "text": [
      "2024-11-09T01:00:00Z\n",
      "2024-11-10T01:00:00Z\n",
      "2024-11-11T01:00:00Z\n",
      "2024-11-12T01:00:00Z\n",
      "2024-11-13T01:00:00Z\n",
      "2024-11-14T01:00:00Z\n"
     ]
    }
   ],
   "source": [
    "for day in heathrow_forecast_data['timelines']['daily']:\n",
    "    print(day['time'])"
   ]
  },
  {
   "cell_type": "code",
   "execution_count": 98,
   "id": "95dacd04-7050-44a2-b2f0-825eb6bfd1b8",
   "metadata": {},
   "outputs": [
    {
     "name": "stdout",
     "output_type": "stream",
     "text": [
      "2024-11-10\n",
      "2024-11-11\n",
      "2024-11-12\n"
     ]
    }
   ],
   "source": [
    "from datetime import datetime\n",
    "\n",
    "# cut this down to three days manually since i dont think there's an API param to do this\n",
    "heathrow_3day_forecast = heathrow_forecast_data['timelines']['daily'][1:4]\n",
    "\n",
    "#convert datetimes to date and add new var\n",
    "for day in heathrow_3day_forecast:\n",
    "    day['day'] = datetime.strptime(day['time'], '%Y-%m-%dT%H:%M:%SZ').date()\n",
    "\n",
    "for day in heathrow_3day_forecast:\n",
    "    print(day['day'])"
   ]
  },
  {
   "cell_type": "markdown",
   "id": "2075599e-b7d3-4841-a95b-156c567ebd28",
   "metadata": {},
   "source": [
    "### Print the maximum temperature of each of the days.\n"
   ]
  },
  {
   "cell_type": "code",
   "execution_count": 102,
   "id": "41572d9f-8781-48f1-bb8a-aa75c5a64897",
   "metadata": {},
   "outputs": [
    {
     "data": {
      "text/plain": [
       "29.51"
      ]
     },
     "execution_count": 102,
     "metadata": {},
     "output_type": "execute_result"
    }
   ],
   "source": [
    "max(day['values']['temperatureMax'] for day in heathrow_3day_forecast)"
   ]
  },
  {
   "cell_type": "markdown",
   "id": "1532c512-ed37-4724-9d1f-f2e18dc74f7b",
   "metadata": {},
   "source": [
    "### Print only the day with the highest maximum temperature.\n"
   ]
  },
  {
   "cell_type": "code",
   "execution_count": 107,
   "id": "345c49c5-14eb-4972-aa05-e26b84203b9d",
   "metadata": {},
   "outputs": [
    {
     "name": "stdout",
     "output_type": "stream",
     "text": [
      "29.51\n",
      "2024-11-11\n"
     ]
    }
   ],
   "source": [
    "max_temp = heathrow_3day_forecast[0]['values']['temperatureMax']\n",
    "max_date = heathrow_3day_forecast[0]['day']\n",
    "\n",
    "for day in heathrow_3day_forecast:\n",
    "    if day['values']['temperatureMax'] > max_temp:\n",
    "        max_date = day['day']\n",
    "        max_temp = day['values']['temperatureMax'] \n",
    "        \n",
    "print(max_temp)\n",
    "print(max_date)"
   ]
  },
  {
   "cell_type": "markdown",
   "id": "4da07f87-5225-4b1a-853c-c0bfa04e2c9f",
   "metadata": {},
   "source": [
    "### Did you find this easier or more difficult than using the weatherapi.com, and why? Which would you recommend to someone interesting in building a tool around weather information?\n"
   ]
  },
  {
   "cell_type": "markdown",
   "id": "451a9b63-4623-480e-92b2-c8ea8f23782d",
   "metadata": {},
   "source": [
    "I felt like this API was a bit more difficult within our assignement. It took some more effort to get to forecasts we wanted, and the other API felt more understandable in terms of their endpoints and variable naming. "
   ]
  }
 ],
 "metadata": {
  "kernelspec": {
   "display_name": "Python 3 (ipykernel)",
   "language": "python",
   "name": "python3"
  },
  "language_info": {
   "codemirror_mode": {
    "name": "ipython",
    "version": 3
   },
   "file_extension": ".py",
   "mimetype": "text/x-python",
   "name": "python",
   "nbconvert_exporter": "python",
   "pygments_lexer": "ipython3",
   "version": "3.12.7"
  }
 },
 "nbformat": 4,
 "nbformat_minor": 5
}
