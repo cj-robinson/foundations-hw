{
 "cells": [
  {
   "cell_type": "markdown",
   "id": "799843fb",
   "metadata": {},
   "source": [
    "In this notebook you'll be using [Spotipy](https://github.com/spotipy-dev/spotipy), a Python package, to talk to the Spotify API. This means you won't have to manually create API URLs, you'll just need to figure out how to make Spotipy do it for you! The full Spotipy documentation is available at [https://spotipy.readthedocs.io/](https://spotipy.readthedocs.io/)\n",
    "\n",
    "# To access *public* Spotify data\n",
    "\n",
    "You'll want to go to the [Spotify for Developers Dashboard](https://developer.spotify.com/dashboard) and create a new app. This will give you a `client_id` and `client_secret`! It's like a super-advanced version of an API key. When you're setting up your app it will probably also ask you for other things like a redirect URL - just put whatever you want in there, it doesn't matter. If it asks what you want access to, you can pick the Web API (but I don't think it matters).\n",
    "\n",
    "> The code below won't work since it's *my* secret keys. I've deleted them so that this notebook is nice and safe for me!"
   ]
  },
  {
   "cell_type": "code",
   "execution_count": 83,
   "id": "b53ee125-9349-4434-8e01-5369c4145342",
   "metadata": {},
   "outputs": [],
   "source": [
    "import spotipy\n",
    "from spotipy.oauth2 import SpotifyClientCredentials\n",
    "from dotenv import load_dotenv\n",
    "import os\n",
    "\n",
    "load_dotenv()\n",
    "\n",
    "SPOTIFY_CLIENT_ID = os.getenv(\"SPOTIFY_CLIENT_ID\")\n",
    "SPOTIFY_CLIENT_SECRET = os.getenv(\"SPOTIFY_CLIENT_SECRET\")\n",
    "\n",
    "sp = spotipy.Spotify(auth_manager=SpotifyClientCredentials(\n",
    "    client_id=SPOTIFY_CLIENT_ID,\n",
    "    client_secret=SPOTIFY_CLIENT_SECRET,\n",
    "))"
   ]
  },
  {
   "cell_type": "markdown",
   "id": "df431b17",
   "metadata": {},
   "source": [
    "When you want data from Spotify, you can't just go to `/artists/Pixies` in order to get work by Pixies! You have to find a special code for the artist (or song, or album, or whatever). It's called the `uri`.\n",
    "\n",
    "> You can find more details on searching [on the Spotipy documentation](https://spotipy.readthedocs.io/en/2.22.1/#spotipy.client.Spotify.search) or the [Spotify Web API documentation](https://developer.spotify.com/documentation/web-api/reference/search). Remember that Spotipy is a Python wrapper for the Spotify API, so you don't need to work with any URLs!\n",
    "\n",
    "To find the `uri`, you first need to do a search. Below we use `sp.search` to search for a particular artist."
   ]
  },
  {
   "cell_type": "code",
   "execution_count": 4,
   "id": "23ca8854-ccdf-4225-b542-c2dc113bd8e7",
   "metadata": {},
   "outputs": [],
   "source": [
    "# Search for the artist Pixies\n",
    "results = sp.search(q='artist:Pixies', type='artist')"
   ]
  },
  {
   "cell_type": "markdown",
   "id": "7721bc81",
   "metadata": {},
   "source": [
    "The `results` it shows us is awful and long and terrible. Instead of showing you how to do that, I already poked through it and found the top artist result from our search."
   ]
  },
  {
   "cell_type": "code",
   "execution_count": 5,
   "id": "2b8eed9b-b34e-419e-b621-7246f5437f4b",
   "metadata": {},
   "outputs": [
    {
     "data": {
      "text/plain": [
       "{'external_urls': {'spotify': 'https://open.spotify.com/artist/6zvul52xwTWzilBZl6BUbT'},\n",
       " 'followers': {'href': None, 'total': 3141874},\n",
       " 'genres': ['alternative rock', 'boston rock', 'permanent wave', 'rock'],\n",
       " 'href': 'https://api.spotify.com/v1/artists/6zvul52xwTWzilBZl6BUbT',\n",
       " 'id': '6zvul52xwTWzilBZl6BUbT',\n",
       " 'images': [{'height': 640,\n",
       "   'url': 'https://i.scdn.co/image/ab6761610000e5eb6281c5914a991e5c0e6e9d13',\n",
       "   'width': 640},\n",
       "  {'height': 320,\n",
       "   'url': 'https://i.scdn.co/image/ab676161000051746281c5914a991e5c0e6e9d13',\n",
       "   'width': 320},\n",
       "  {'height': 160,\n",
       "   'url': 'https://i.scdn.co/image/ab6761610000f1786281c5914a991e5c0e6e9d13',\n",
       "   'width': 160}],\n",
       " 'name': 'Pixies',\n",
       " 'popularity': 72,\n",
       " 'type': 'artist',\n",
       " 'uri': 'spotify:artist:6zvul52xwTWzilBZl6BUbT'}"
      ]
     },
     "execution_count": 5,
     "metadata": {},
     "output_type": "execute_result"
    }
   ],
   "source": [
    "results['artists']['items'][0]"
   ]
  },
  {
   "cell_type": "markdown",
   "id": "f9c8b4d0",
   "metadata": {},
   "source": [
    "There we go! The `uri` looks to be `spotify:artist:6zvul52xwTWzilBZl6BUbT`.\n",
    "\n",
    "Now the sad part: the Spotipy documentation is...... not great. The Spotify Web API docs look good, *but* we're using the Python wrapper, not the raw Spotify API! Luckily Spotipy has a great [list of examples](https://github.com/spotipy-dev/spotipy/tree/master/examples), including one for [an artist's top tracks](https://github.com/spotipy-dev/spotipy/blob/master/examples/simple_artist_top_tracks.py).\n",
    "\n",
    "```python\n",
    "from spotipy.oauth2 import SpotifyClientCredentials\n",
    "import spotipy\n",
    "\n",
    "lz_uri = 'spotify:artist:36QJpDe2go2KgaRleHCDTp'\n",
    "\n",
    "client_credentials_manager = SpotifyClientCredentials()\n",
    "sp = spotipy.Spotify(client_credentials_manager=client_credentials_manager)\n",
    "\n",
    "results = sp.artist_top_tracks(lz_uri)\n",
    "\n",
    "for track in results['tracks'][:10]:\n",
    "    print('track    : ' + track['name'])\n",
    "    print('audio    : ' + track['preview_url'])\n",
    "    print('cover art: ' + track['album']['images'][0]['url'])\n",
    "```\n",
    "\n",
    "Since we already have the credentials and blah blah blah set up, all we need to do is adapt the `sp.artist_top_tracks(lz_uri)` line and everything below it."
   ]
  },
  {
   "cell_type": "code",
   "execution_count": 6,
   "id": "947ff2a4-1be0-4dc5-9eeb-0a0dff9fff4f",
   "metadata": {},
   "outputs": [
    {
     "name": "stdout",
     "output_type": "stream",
     "text": [
      "Where Is My Mind? - 2007 Remaster\n",
      "Here Comes Your Man\n",
      "All I Think About Now\n",
      "Hey\n",
      "Monkey Gone to Heaven\n",
      "The Thing\n",
      "Debaser\n",
      "Gouge Away\n",
      "Wave Of Mutilation\n",
      "Que Sera Sera\n"
     ]
    }
   ],
   "source": [
    "results = sp.artist_top_tracks('spotify:artist:6zvul52xwTWzilBZl6BUbT')\n",
    "\n",
    "for track in results['tracks'][:10]:\n",
    "    print(track['name'])"
   ]
  },
  {
   "cell_type": "markdown",
   "id": "e5a7a659",
   "metadata": {},
   "source": [
    "And that's about it! You use magic codes and it lets you get up-to-date information."
   ]
  },
  {
   "cell_type": "markdown",
   "id": "3ef05e15",
   "metadata": {},
   "source": [
    "# Your mission\n",
    "\n",
    "I recently came across a Spotify playlist called [Fall in a 90s Suburb](https://open.spotify.com/playlist/7r2XnAUl6moWkcwOaWgihD?si=505c8f22f4314a33) while researching the band [SEAGULL SCREAMING KISS HER KISS HER](https://open.spotify.com/artist/1WSO9nf7wTj5DZBsncauGr?si=S0xpngxHR1mLF720lMZwxg). The playlist was pretty good, but since since SSKHKH only has like 1,500 listeners each month I was curious about the most/least popular songs on the playlist.\n",
    "\n",
    "## My questions\n",
    "\n",
    "1. What are the ten most popular songs on the playlist?\n",
    "2. What percentage of them have a popularity of zero? Print them out, sorted by the band name.\n",
    "3. Is popularity relative to the artist, the album, all songs on Spotify, or something else?\n",
    "\n",
    "### My suggested approach\n",
    "\n",
    "I suggest approaching this through the following steps:\n",
    "\n",
    "1. Getting the playlist and print out its **name and description**. \n",
    "2. Print out **the name and popularity of each song**\n",
    "3. Print out **the name, popularity, and artists** of each track on the playlist. Or, if you'd like a shortcut, just pick the first artist.\n",
    "4. Instead of printing, use these to **create a new dictionary** each time you look at a track. Print out this dictionary. You should be printing out 476 dictionaries!\n",
    "5. Printing isn't helpful! Instead, after you create the dictionary **append it** to a list called `all_tracks`\n",
    "6. When you're done, `all_tracks` should have 476 items in it\n",
    "7. Sort the list by `popularity`, take the **top ten**\n",
    "8. Filter the list by `popularity`, selecting only the ones with a popularity of `0`\n",
    "\n",
    "### Tips\n",
    "\n",
    "**Spotipy documentation:** https://spotipy.readthedocs.io/\n",
    "\n",
    "**Spotify Web API documentation:** https://developer.spotify.com/documentation/web-api/\n",
    "\n",
    "- Do this in many, many cells, not all in one!\n",
    "- You definitely want to [look at the Spotipy examples](https://github.com/spotipy-dev/spotipy/tree/master/examples) to find some good code to base your answer off of. There are a handful that talk about playlists – it might be helpful to read and compare a few of them!\n",
    "- Getting the playlist name/description is **a different endpoint** than getting the actual songs on the playlist.\n",
    "- Are you printing out the **same number of tracks as are in the actual playlist?** Take note and be careful! It should be ~476.\n",
    "- If you're getting the id of playlist songs but not seeing song names, look for `fields='items.track.id,total` in your code. It's only pulling the track's id! Change it to `items.track,total` and it will return [more information about each track](https://developer.spotify.com/documentation/web-api/reference/get-playlists-tracks)\n",
    "- `all_tracks = []` should be the first line in your cell. That makes sure it always resets to being empty before you start adding tracks to it.\n",
    "- Be sure the first and last items in `all_tracks` are different – maybe you're accidentally adding the same item each time!\n",
    "- Normally we sort lists of numbers, which is easy. Sorting a list of dictionaries can be done easily with `key=`. Look it up!\n",
    "- Pick the most popular 10 songs using list comprehensions\n",
    "- Filtering is best done with a list comprehension.\n",
    "- You can sort by things that aren't numbers!"
   ]
  },
  {
   "cell_type": "code",
   "execution_count": 130,
   "id": "f97ae547",
   "metadata": {},
   "outputs": [],
   "source": [
    "all_tracks = []"
   ]
  },
  {
   "cell_type": "code",
   "execution_count": 131,
   "id": "297a17b1-9a31-4f4b-93b5-799d520d653e",
   "metadata": {},
   "outputs": [],
   "source": [
    "# use URL from above to search for playlist\n",
    "playlist_id = 'open.spotify.com/playlist/7r2XnAUl6moWkcwOaWgihD?si=505c8f22f4314a33&nd=1&dlsi=f7610e604c9e4186'"
   ]
  },
  {
   "cell_type": "code",
   "execution_count": 132,
   "id": "0052cf09-b7eb-420c-a37b-dd4819f0ab3a",
   "metadata": {},
   "outputs": [
    {
     "name": "stdout",
     "output_type": "stream",
     "text": [
      "Fall in a 90s Suburb 🍂 \n",
      "fuzzy guitars from the 80s, 90s &amp; early 00s for feeling angsty as the seasons change.  put on a sweater and listen to some indie rock, shoegaze, and noisy twee.\n"
     ]
    }
   ],
   "source": [
    "# get playlist metadata\n",
    "playlist_info = sp.playlist(playlist_id)\n",
    "\n",
    "#print name and desc\n",
    "print(playlist_info['name'])\n",
    "print(playlist_info['description'])"
   ]
  },
  {
   "cell_type": "code",
   "execution_count": 133,
   "id": "0662bc1f-2824-40f8-b4a8-ef69ff7ef37d",
   "metadata": {},
   "outputs": [],
   "source": [
    "full_results = []\n",
    "\n",
    "# get all playlist tracks\n",
    "results = sp.playlist_items(playlist_id)\n",
    "full_results = results['items']\n",
    "\n",
    "#loop through since limit is 100\n",
    "while results['next']:\n",
    "    results = sp.next(results)\n",
    "    full_results.extend(results['items'])"
   ]
  },
  {
   "cell_type": "code",
   "execution_count": 134,
   "id": "455944de-caf1-4b21-b02b-6ce87b7320c0",
   "metadata": {},
   "outputs": [
    {
     "name": "stdout",
     "output_type": "stream",
     "text": [
      "song name: Waiting For October  pop: 28\n",
      "song name: Scott Pilgrim  pop: 44\n",
      "song name: Ginger  pop: 24\n",
      "song name: Frontwards  pop: 0\n",
      "song name: First Revival  pop: 0\n",
      "song name: I Can See It (But I Can't Feel It)  pop: 27\n",
      "song name: Skyscraper  pop: 12\n",
      "song name: Jar Of Cardinals  pop: 21\n",
      "song name: Get Back  pop: 34\n",
      "song name: Tripoli  pop: 0\n"
     ]
    }
   ],
   "source": [
    "# get song name and popularity\n",
    "\n",
    "for song in full_results[:10]:\n",
    "    print(f\"song name: {song['track']['name']}  pop: {song['track']['popularity']}\")"
   ]
  },
  {
   "cell_type": "code",
   "execution_count": 135,
   "id": "2b80c2b0-5fd6-4458-9b38-edf4bae7f099",
   "metadata": {},
   "outputs": [
    {
     "name": "stdout",
     "output_type": "stream",
     "text": [
      "song name: Waiting For October  pop: 28 artists: ['Polaris']\n",
      "song name: Scott Pilgrim  pop: 44 artists: ['Plumtree']\n",
      "song name: Ginger  pop: 24 artists: ['Lilys']\n",
      "song name: Frontwards  pop: 0 artists: ['Pavement']\n",
      "song name: First Revival  pop: 0 artists: ['The Amps']\n",
      "song name: I Can See It (But I Can't Feel It)  pop: 27 artists: ['my bloody valentine']\n",
      "song name: Skyscraper  pop: 12 artists: ['The Boo Radleys']\n",
      "song name: Jar Of Cardinals  pop: 21 artists: ['Guided By Voices']\n",
      "song name: Get Back  pop: 34 artists: ['Veruca Salt']\n",
      "song name: Tripoli  pop: 0 artists: ['Pinback']\n"
     ]
    }
   ],
   "source": [
    "# get song name and list of artists\n",
    "\n",
    "for song in full_results[:10]:\n",
    "    artist_list = [artist['name'] for artist in song['track']['artists']]\n",
    "    print(f\"song name: {song['track']['name']}  pop: {song['track']['popularity']} artists: {artist_list}\")"
   ]
  },
  {
   "cell_type": "code",
   "execution_count": 136,
   "id": "11506e22-fd56-417d-8124-6d31218d9cd0",
   "metadata": {},
   "outputs": [],
   "source": [
    "# create dict of song results based on printing above\n",
    "for song in full_results:\n",
    "    song = {\n",
    "        'name': song['track']['name'],\n",
    "        'popularity': song['track']['popularity'],\n",
    "        'artists': [artist['name'] for artist in song['track']['artists']]\n",
    "    }\n",
    "    all_tracks.append(song)"
   ]
  },
  {
   "cell_type": "code",
   "execution_count": 137,
   "id": "24c4f4a6-6b39-4d30-9daf-b47a010aed43",
   "metadata": {},
   "outputs": [
    {
     "data": {
      "text/plain": [
       "476"
      ]
     },
     "execution_count": 137,
     "metadata": {},
     "output_type": "execute_result"
    }
   ],
   "source": [
    "len(all_tracks)"
   ]
  },
  {
   "cell_type": "code",
   "execution_count": 141,
   "id": "26b21d22-d6cb-4f85-82ad-a3c93f5d844d",
   "metadata": {},
   "outputs": [
    {
     "name": "stdout",
     "output_type": "stream",
     "text": [
      "1. 1979 - Remastered 2012 by ['The Smashing Pumpkins'], popularity of: 77\n",
      "2. Today - 2011 Remaster by ['The Smashing Pumpkins'], popularity of: 69\n",
      "3. Halah by ['Mazzy Star'], popularity of: 67\n",
      "4. Cherry-coloured Funk by ['Cocteau Twins'], popularity of: 66\n",
      "5. Coffee & TV by ['Blur'], popularity of: 61\n",
      "6. Drown by ['The Smashing Pumpkins'], popularity of: 60\n",
      "7. When You Sleep by ['my bloody valentine'], popularity of: 59\n",
      "8. She Bangs the Drums - Remastered 2009 by ['The Stone Roses'], popularity of: 59\n",
      "9. Lorelei by ['Cocteau Twins'], popularity of: 54\n",
      "10. Blue Flower by ['Mazzy Star'], popularity of: 53\n"
     ]
    }
   ],
   "source": [
    "#sort tracks by popularity\n",
    "sorted_tracks = sorted(all_tracks, key=lambda d: d['popularity'], reverse = True)\n",
    "\n",
    "#count up and print each song/artist\n",
    "counter = 1\n",
    "for track in sorted_tracks[:10]:\n",
    "    print(f\"{counter}. {track['name']} by {track['artists']}, popularity of: {track['popularity']}\")\n",
    "    counter+=1"
   ]
  },
  {
   "cell_type": "code",
   "execution_count": 139,
   "id": "296eda6c-8d97-4b07-a727-eb50206f3dd7",
   "metadata": {},
   "outputs": [],
   "source": [
    "#find tracks with zero popularity\n",
    "zero_pop = [track['name'] for track in sorted_tracks if track['popularity'] == 0]"
   ]
  },
  {
   "cell_type": "code",
   "execution_count": 140,
   "id": "0ea14ef9-ba50-41fd-89db-ddd575f77396",
   "metadata": {},
   "outputs": [
    {
     "name": "stdout",
     "output_type": "stream",
     "text": [
      "38.45% of the tracks have a 0 popularity score\n"
     ]
    }
   ],
   "source": [
    "zero_prop = len(zero_pop) / len(all_tracks)\n",
    "print(f\"{zero_prop:.2%} of the tracks have a 0 popularity score\")"
   ]
  },
  {
   "cell_type": "markdown",
   "id": "a8ca9ce5-792c-4a23-af05-c8b929268404",
   "metadata": {},
   "source": [
    "Here's what I could find about the popularity score:\n",
    "\n",
    "_The popularity of a track is a value between 0 and 100, with 100 being the most popular. The popularity is calculated by algorithm and is based, in the most part, on the total number of plays the track has had and how recent those plays are.\n",
    "Generally speaking, songs that are being played a lot now will have a higher popularity than songs that were played a lot in the past. Duplicate tracks (e.g. the same track from a single and an album) are rated independently. Artist and album popularity is derived mathematically from track popularity. Note: the popularity value may lag actual popularity by a few days: the value is not updated in real time._\n",
    "\n",
    "\n",
    "So it seems **track based** based on all songs on spotify + recency. There's also a popularity score for artist and album. "
   ]
  },
  {
   "cell_type": "code",
   "execution_count": null,
   "id": "32a76eac-ebe9-4415-a90c-3cb6d5f1b6d6",
   "metadata": {},
   "outputs": [],
   "source": []
  }
 ],
 "metadata": {
  "kernelspec": {
   "display_name": "Python 3 (ipykernel)",
   "language": "python",
   "name": "python3"
  },
  "language_info": {
   "codemirror_mode": {
    "name": "ipython",
    "version": 3
   },
   "file_extension": ".py",
   "mimetype": "text/x-python",
   "name": "python",
   "nbconvert_exporter": "python",
   "pygments_lexer": "ipython3",
   "version": "3.12.7"
  }
 },
 "nbformat": 4,
 "nbformat_minor": 5
}
