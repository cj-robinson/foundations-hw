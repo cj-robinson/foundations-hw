{
 "cells": [
  {
   "cell_type": "markdown",
   "id": "7951c481-ad6c-4225-b3d3-cc070af3f897",
   "metadata": {},
   "source": [
    "# HW 5 Part 1"
   ]
  },
  {
   "cell_type": "markdown",
   "id": "88b23e00-7544-43d3-8123-9910c5591521",
   "metadata": {},
   "source": [
    "### Examine both Open Meteo and Tomorrow and decide which one you'd prefer to use. What drove your decision?\n",
    "I ended up using Tomorrow. The documentation seemed like it was a lot more thorough, and I didn't love the way the API looked for Open Metro (selecting specific vars, using lat long). "
   ]
  },
  {
   "cell_type": "markdown",
   "id": "4c2648d3-712a-4245-a9bf-9aa6748db6f5",
   "metadata": {},
   "source": [
    "### What is the URL to the documentation? (You don't use code for this one)\n",
    "https://docs.tomorrow.io/reference/intro/getting-started"
   ]
  },
  {
   "cell_type": "markdown",
   "id": "9643e694-fa22-48d7-a558-e4b4e1d3c826",
   "metadata": {},
   "source": [
    "### Make a request for the current weather where you are born, or somewhere you've lived."
   ]
  },
  {
   "cell_type": "code",
   "execution_count": 1,
   "id": "9f566cdc-4e28-4da0-aa36-ca05facf4221",
   "metadata": {},
   "outputs": [],
   "source": [
    "import requests\n",
    "\n",
    "url = \"https://api.open-meteo.com/v1/forecast?latitude=47.1854&longitude=-122.2929&current=temperature_2m,apparent_temperature&forecast_days=1\"\n",
    "response = requests.get(url)\n",
    "hometown_data = response.json()"
   ]
  },
  {
   "cell_type": "markdown",
   "id": "54843a05-b999-4603-b35c-78be74c9049a",
   "metadata": {},
   "source": [
    "### Print out the country this location is in."
   ]
  },
  {
   "cell_type": "code",
   "execution_count": 2,
   "id": "21e20b12-f681-4220-a476-42dec7a9743a",
   "metadata": {},
   "outputs": [
    {
     "ename": "AttributeError",
     "evalue": "'dict' object has no attribute 'prettify'",
     "output_type": "error",
     "traceback": [
      "\u001b[0;31m---------------------------------------------------------------------------\u001b[0m",
      "\u001b[0;31mAttributeError\u001b[0m                            Traceback (most recent call last)",
      "Cell \u001b[0;32mIn[2], line 1\u001b[0m\n\u001b[0;32m----> 1\u001b[0m \u001b[43mhometown_data\u001b[49m\u001b[38;5;241;43m.\u001b[39;49m\u001b[43mprettify\u001b[49m()\n",
      "\u001b[0;31mAttributeError\u001b[0m: 'dict' object has no attribute 'prettify'"
     ]
    }
   ],
   "source": []
  },
  {
   "cell_type": "code",
   "execution_count": null,
   "id": "453c6b42-98ee-4d4e-9bb4-c0854b9c2d2f",
   "metadata": {},
   "outputs": [],
   "source": [
    "Print out the difference between the current temperature and how warm it feels. Use \"It feels ___ degrees colder\" or \"It feels ___ degrees warmer,\" not negative numbers.\n",
    "What's the current temperature at Heathrow International Airport? Use the airport's IATA code to search.\n",
    "What URL would I use to request a 3-day forecast at Heathrow?\n",
    "Print the date of each of the 3 days you're getting a forecast for.\n",
    "Print the maximum temperature of each of the days.\n",
    "Print only the day with the highest maximum temperature.\n",
    "Did you find this easier or more difficult than using the weatherapi.com, and why? Which would you recommend to someone interesting in building a tool around weather information?\n"
   ]
  }
 ],
 "metadata": {
  "kernelspec": {
   "display_name": "Python 3 (ipykernel)",
   "language": "python",
   "name": "python3"
  },
  "language_info": {
   "codemirror_mode": {
    "name": "ipython",
    "version": 3
   },
   "file_extension": ".py",
   "mimetype": "text/x-python",
   "name": "python",
   "nbconvert_exporter": "python",
   "pygments_lexer": "ipython3",
   "version": "3.12.7"
  }
 },
 "nbformat": 4,
 "nbformat_minor": 5
}
